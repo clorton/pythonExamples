{
 "cells": [
  {
   "cell_type": "code",
   "execution_count": null,
   "metadata": {},
   "outputs": [],
   "source": [
    "#! /usr/bin/env python3"
   ]
  },
  {
   "cell_type": "code",
   "execution_count": null,
   "metadata": {},
   "outputs": [],
   "source": [
    "def no_argument():\n",
    "    print(\"I heartily agree!\")\n",
    "    return"
   ]
  },
  {
   "cell_type": "code",
   "execution_count": null,
   "metadata": {},
   "outputs": [],
   "source": [
    "no_argument()"
   ]
  },
  {
   "cell_type": "markdown",
   "metadata": {},
   "source": [
    "### a working example"
   ]
  },
  {
   "cell_type": "code",
   "execution_count": null,
   "metadata": {},
   "outputs": [],
   "source": [
    "from tempfile import mkstemp\n",
    "import os\n",
    "from pathlib import Path\n",
    "from contextlib import contextmanager\n",
    "\n",
    "@contextmanager\n",
    "def tempfile():\n",
    "    handle, name = mkstemp()    # returns open handle and filename\n",
    "    os.close(handle)            # don't need open handle\n",
    "    file = Path(name)           # like Paths rather than raw strings\n",
    "    yield file                  # return the Path\n",
    "    file.unlink()               # delete the temporary file"
   ]
  },
  {
   "cell_type": "code",
   "execution_count": null,
   "metadata": {},
   "outputs": [],
   "source": [
    "with tempfile() as test:\n",
    "    print(f\"{test=}\")\n",
    "    save = test\n",
    "print(f\"{save.exists()}\")"
   ]
  },
  {
   "cell_type": "markdown",
   "metadata": {},
   "source": [
    "## a function with some arguments"
   ]
  },
  {
   "cell_type": "code",
   "execution_count": null,
   "metadata": {},
   "outputs": [],
   "source": [
    "def some_arguments(foo, bar, baz):\n",
    "    print(f\"{foo=}, {bar=}, {baz=} => '{foo} {bar} {baz}'\")\n",
    "    return"
   ]
  },
  {
   "cell_type": "code",
   "execution_count": null,
   "metadata": {},
   "outputs": [],
   "source": [
    "some_arguments(\"yes\", \"but\", \"what about...\")"
   ]
  },
  {
   "cell_type": "code",
   "execution_count": null,
   "metadata": {},
   "outputs": [],
   "source": [
    "some_arguments()"
   ]
  },
  {
   "cell_type": "markdown",
   "metadata": {},
   "source": [
    "### a working example"
   ]
  },
  {
   "cell_type": "code",
   "execution_count": null,
   "metadata": {},
   "outputs": [],
   "source": [
    "@contextmanager\n",
    "def tempfile(prefix, suffix, directory):\n",
    "    handle, name = mkstemp(suffix, prefix, directory)\n",
    "    os.close(handle)\n",
    "    file = Path(name)\n",
    "    yield file\n",
    "    file.unlink()\n",
    "    return"
   ]
  },
  {
   "cell_type": "code",
   "execution_count": null,
   "metadata": {},
   "outputs": [],
   "source": [
    "with tempfile() as test:\n",
    "    print(f\"{test=}\")\n",
    "    save = test"
   ]
  },
  {
   "cell_type": "markdown",
   "metadata": {},
   "source": [
    "## a function with some arguments with defaults"
   ]
  },
  {
   "cell_type": "code",
   "execution_count": null,
   "metadata": {},
   "outputs": [],
   "source": [
    "def defaults(foo=\"Hello\", baz=\"World!\"):\n",
    "    print(f\"{foo=}, {baz=} => '{foo}, {baz}'\")\n",
    "    return"
   ]
  },
  {
   "cell_type": "code",
   "execution_count": null,
   "metadata": {},
   "outputs": [],
   "source": [
    "defaults()                  # Hello, World!"
   ]
  },
  {
   "cell_type": "code",
   "execution_count": null,
   "metadata": {},
   "outputs": [],
   "source": [
    "defaults(foo=\"Greetings\")   # Greetings, World!"
   ]
  },
  {
   "cell_type": "markdown",
   "metadata": {},
   "source": [
    "### a working example"
   ]
  },
  {
   "cell_type": "code",
   "execution_count": null,
   "metadata": {},
   "outputs": [],
   "source": [
    "@contextmanager\n",
    "def tempfile(prefix=\"output-\", suffix=\".txt\", directory=None):\n",
    "    handle, name = mkstemp(suffix, prefix, directory)\n",
    "    os.close(handle)\n",
    "    file = Path(name)\n",
    "    yield file\n",
    "    file.unlink()\n",
    "    return"
   ]
  },
  {
   "cell_type": "code",
   "execution_count": null,
   "metadata": {},
   "outputs": [],
   "source": [
    "with tempfile() as test:\n",
    "    print(f\"{test=}\")\n",
    "    save = test"
   ]
  },
  {
   "cell_type": "markdown",
   "metadata": {},
   "source": [
    "## a function with some arguments, with _some_ defaults"
   ]
  },
  {
   "cell_type": "code",
   "execution_count": null,
   "metadata": {},
   "outputs": [],
   "source": [
    "def some_defaults(foo, bar, baz=\"World!\"):\n",
    "    print(f\"{foo=}, {bar=}, {baz=} => '{foo}{bar}{baz}'\")\n",
    "    return"
   ]
  },
  {
   "cell_type": "code",
   "execution_count": null,
   "metadata": {},
   "outputs": [],
   "source": [
    "try:\n",
    "    # Not allowed, must specify `foo` and `bar`.\n",
    "    some_defaults()\n",
    "except TypeError as e:\n",
    "    print(e)"
   ]
  },
  {
   "cell_type": "code",
   "execution_count": null,
   "metadata": {},
   "outputs": [],
   "source": [
    "some_defaults(\"Aloha\", \": \")    # Aloha: World!"
   ]
  },
  {
   "cell_type": "code",
   "execution_count": null,
   "metadata": {},
   "outputs": [],
   "source": [
    "def wont_work(foo=\"abracadabra\", bar, baz):\n",
    "    return"
   ]
  },
  {
   "cell_type": "markdown",
   "metadata": {},
   "source": [
    "### a working example"
   ]
  },
  {
   "cell_type": "code",
   "execution_count": null,
   "metadata": {},
   "outputs": [],
   "source": [
    "@contextmanager\n",
    "def tempfile(prefix, suffix, directory=None):\n",
    "    handle, name = mkstemp(suffix, prefix, directory)\n",
    "    os.close(handle)\n",
    "    file = Path(name)\n",
    "    yield file\n",
    "    file.unlink()\n",
    "    return"
   ]
  },
  {
   "cell_type": "code",
   "execution_count": null,
   "metadata": {},
   "outputs": [],
   "source": [
    "with tempfile(\"some-output-\", \".bin\") as test:\n",
    "    print(f\"{test=}\")\n",
    "    save = test"
   ]
  },
  {
   "cell_type": "markdown",
   "metadata": {},
   "source": [
    "## another function with defaults"
   ]
  },
  {
   "cell_type": "code",
   "execution_count": null,
   "metadata": {},
   "outputs": [],
   "source": [
    "def welcome(greet=\"Hello\", sep=\", \", entity=\"World\", stop=\"!\"):\n",
    "    print(f\"{greet=}, {sep=}, {entity=}, {stop=} => '{greet}{sep}{entity}{stop}'\")\n",
    "    return"
   ]
  },
  {
   "cell_type": "code",
   "execution_count": null,
   "metadata": {},
   "outputs": [],
   "source": [
    "welcome(entity=\"everyone\", sep=\": \", stop=\".\", greet=\"Entertaining\")    # Entertaining: everyone."
   ]
  },
  {
   "cell_type": "code",
   "execution_count": null,
   "metadata": {},
   "outputs": [],
   "source": [
    "welcome(\"Salutations\", \"/\", \"IDM\", \"#\")"
   ]
  },
  {
   "cell_type": "markdown",
   "metadata": {},
   "source": [
    "----\n",
    "\n",
    "## Positional-Only Parameters\n",
    "[PEP 570 -- Python Positional-Only Parameters](https://www.python.org/dev/peps/pep-0570/)\n",
    "\n",
    "With positional-or-keyword parameters, the mix of calling conventions is not always desirable. Authors may want to restrict usage of an API by disallowing calling the API with keyword arguments, which exposes the name of the parameter when part of the public API."
   ]
  },
  {
   "cell_type": "code",
   "execution_count": null,
   "metadata": {},
   "outputs": [],
   "source": [
    "def positional_only(greet=\"Hello\", entity=\"World\", /, sep=\", \", stop=\"!\"):\n",
    "    print(f\"{greet=}, {sep=}, {entity=}, {stop=} => '{greet}{sep}{entity}{stop}'\")\n",
    "    return"
   ]
  },
  {
   "cell_type": "code",
   "execution_count": null,
   "metadata": {},
   "outputs": [],
   "source": [
    "try:\n",
    "    # Not allowed`greet` and `entity` are positional only.\n",
    "    positional_only(entity=\"everyone\", sep=\": \", stop=\".\", greet=\"Entertaining\")\n",
    "except TypeError as e:\n",
    "    print(e)"
   ]
  },
  {
   "cell_type": "code",
   "execution_count": null,
   "metadata": {},
   "outputs": [],
   "source": [
    "positional_only(\"Welcome\", \"co-workers\")    # Welcome, co-workers!"
   ]
  },
  {
   "cell_type": "markdown",
   "metadata": {},
   "source": [
    "### Name of Parameter as Part of Public API"
   ]
  },
  {
   "cell_type": "code",
   "execution_count": null,
   "metadata": {},
   "outputs": [],
   "source": [
    "def intdiv(foo, bar):\n",
    "    return foo // bar"
   ]
  },
  {
   "cell_type": "code",
   "execution_count": null,
   "metadata": {},
   "outputs": [],
   "source": [
    "intdiv(foo=42, bar=21)"
   ]
  },
  {
   "cell_type": "code",
   "execution_count": null,
   "metadata": {},
   "outputs": [],
   "source": [
    "def intdiv(numerator, denominator):\n",
    "    return numerator // denominator"
   ]
  },
  {
   "cell_type": "code",
   "execution_count": null,
   "metadata": {},
   "outputs": [],
   "source": [
    "intdiv(foo=42, bar=21)"
   ]
  },
  {
   "cell_type": "code",
   "execution_count": null,
   "metadata": {},
   "outputs": [],
   "source": [
    "def intdiv(numerator, denominator, /):\n",
    "    return numerator // denominator"
   ]
  },
  {
   "cell_type": "code",
   "execution_count": null,
   "metadata": {},
   "outputs": [],
   "source": [
    "intdiv(numerator=42, bar=21)"
   ]
  },
  {
   "cell_type": "code",
   "execution_count": null,
   "metadata": {},
   "outputs": [],
   "source": [
    "intdiv(42, 21)"
   ]
  },
  {
   "cell_type": "markdown",
   "metadata": {},
   "source": [
    "## *args == _star_ args, arbitrary arguments gathered into a tuple"
   ]
  },
  {
   "cell_type": "code",
   "execution_count": null,
   "metadata": {},
   "outputs": [],
   "source": [
    "def star_args(*args):\n",
    "    print(f\"'{args[0]}'...'{args[-1]}'\") if len(args) else None\n",
    "    print(f\"{type(args)} {args=}\")\n",
    "    return"
   ]
  },
  {
   "cell_type": "code",
   "execution_count": null,
   "metadata": {},
   "outputs": [],
   "source": [
    "star_args(\"acts\", \"cast\", \"cats\", \"scat\")   # arguments gathered into a tuple..."
   ]
  },
  {
   "cell_type": "code",
   "execution_count": null,
   "metadata": {},
   "outputs": [],
   "source": [
    "t = (\"Institute\", \"for\", \"Disease\", \"Modeling\")\n",
    "star_args(t)"
   ]
  },
  {
   "cell_type": "code",
   "execution_count": null,
   "metadata": {},
   "outputs": [],
   "source": [
    "star_args(*t)"
   ]
  },
  {
   "cell_type": "markdown",
   "metadata": {},
   "source": [
    "### an example"
   ]
  },
  {
   "cell_type": "code",
   "execution_count": null,
   "metadata": {},
   "outputs": [],
   "source": [
    "def bigsigma(*args):\n",
    "    return sum(args)"
   ]
  },
  {
   "cell_type": "code",
   "execution_count": null,
   "metadata": {},
   "outputs": [],
   "source": [
    "bigsigma(1, 2, 3, 4, 5, 6, 7, 8, 9, 10)"
   ]
  },
  {
   "cell_type": "code",
   "execution_count": null,
   "metadata": {},
   "outputs": [],
   "source": [
    "bigsigma(*range(101))"
   ]
  },
  {
   "cell_type": "markdown",
   "metadata": {},
   "source": [
    "## **kwargs == _keyword_ args, arbitrary arguments specified as key:value pairs gathered into a dictionary"
   ]
  },
  {
   "cell_type": "code",
   "execution_count": null,
   "metadata": {},
   "outputs": [],
   "source": [
    "def keyword_args(**kwargs):\n",
    "    print(f\"{kwargs['foo']=}\") if \"foo\" in kwargs else \"No 'foo' found. :^(\"\n",
    "    print(f\"{type(kwargs)} {kwargs=}\")\n",
    "    return"
   ]
  },
  {
   "cell_type": "code",
   "execution_count": null,
   "metadata": {},
   "outputs": [],
   "source": [
    "keyword_args(a=\"acts\", b=\"cast\", foo=\"cats\", bar=\"scat\")    # arguments gathered into a dictionary"
   ]
  },
  {
   "cell_type": "code",
   "execution_count": null,
   "metadata": {},
   "outputs": [],
   "source": [
    "d = {\"name\": \"Bill & Melinda Gates Foundation\", \"street\": \"500 Fifth Ave N\", \"city\": \"Seattle\", \"state\": \"WA\", \"zipcode\": \"98109-4636\"}\n",
    "d"
   ]
  },
  {
   "cell_type": "code",
   "execution_count": null,
   "metadata": {},
   "outputs": [],
   "source": [
    "try:\n",
    "    # Not allowed, need at least one keyword argument to go into kwargs.\n",
    "    keyword_args(d)\n",
    "except TypeError as e:\n",
    "    print(e)"
   ]
  },
  {
   "cell_type": "code",
   "execution_count": null,
   "metadata": {},
   "outputs": [],
   "source": [
    "keyword_args(**d)"
   ]
  },
  {
   "cell_type": "markdown",
   "metadata": {},
   "source": [
    "### an example"
   ]
  },
  {
   "cell_type": "code",
   "execution_count": null,
   "metadata": {},
   "outputs": [],
   "source": [
    "import json\n",
    "def demographics_node(latitude, longitude, population, **kwargs):\n",
    "    dictionary = {\"latitude\": latitude, \"longitude\": longitude, \"population\": population }\n",
    "    dictionary.update(kwargs)\n",
    "    return json.dumps(dictionary)"
   ]
  },
  {
   "cell_type": "code",
   "execution_count": null,
   "metadata": {},
   "outputs": [],
   "source": [
    "base = demographics_node(47.623294, -122.346503, 1500)\n",
    "print(base)\n",
    "node = demographics_node(47.623294, -122.346503, 1500, **{\"name\": \"bmgf\", \"airport\": False})\n",
    "print(node)"
   ]
  },
  {
   "cell_type": "markdown",
   "metadata": {},
   "source": [
    "----\n",
    "\n",
    "## Keyword-Only Arguments\n",
    "\n",
    "[PEP 3102 -- Keyword-Only Arguments](https://www.python.org/dev/peps/pep-3102/)\n",
    "\n",
    "There are often cases where it is desirable for a function to take a variable number of arguments. The Python language supports this using the 'varargs' syntax (*name), which specifies that any 'left over' arguments be passed into the varargs parameter as a tuple.\n",
    "\n",
    "One limitation on this is that currently, all of the regular argument slots must be filled before the vararg slot can be.\n",
    "\n",
    "This is not always desirable. One can easily envision a function which takes a variable number of arguments, but also takes one or more 'options' in the form of keyword arguments. Currently, the only way to do this is to define both a varargs argument, and a 'keywords' argument (**kwargs), and then manually extract the desired keywords from the dictionary."
   ]
  },
  {
   "cell_type": "code",
   "execution_count": null,
   "metadata": {},
   "outputs": [],
   "source": [
    "def keyword_only(greet=\"Hello\", entity=\"World\", *, sep=\", \", stop=\"!\"):\n",
    "    print(f\"{greet=}, {sep=}, {entity=}, {stop=} => '{greet}{sep}{entity}{stop}'\")\n",
    "    return"
   ]
  },
  {
   "cell_type": "code",
   "execution_count": null,
   "metadata": {},
   "outputs": [],
   "source": [
    "keyword_only(\"Aloha\", \"Everyone\", sep=\": \", stop=\"$\")"
   ]
  },
  {
   "cell_type": "code",
   "execution_count": null,
   "metadata": {},
   "outputs": [],
   "source": [
    "try:\n",
    "    # Not allowed, `sep` and `stop` must be specified by keyword.\n",
    "    keyword_only(\"Guten Tag\", \"Jeder\", \"! ¡\", \"!\")\n",
    "except TypeError as e:\n",
    "    print(e)"
   ]
  },
  {
   "cell_type": "code",
   "execution_count": null,
   "metadata": {},
   "outputs": [],
   "source": [
    "keyword_only(\"Guten Tag\", \"Jeder\", sep=\"! ¡\", stop=\"!\")"
   ]
  },
  {
   "cell_type": "markdown",
   "metadata": {},
   "source": [
    "### an example?"
   ]
  },
  {
   "cell_type": "code",
   "execution_count": null,
   "metadata": {},
   "outputs": [],
   "source": [
    "from functools import reduce\n",
    "def product(values):\n",
    "    return reduce(lambda x, y: x*y, values, 1)\n",
    "    \n",
    "def aggregate(a, b, *args, multiply=False):\n",
    "    print(f\"{a=}, {b=}, {args=}\")\n",
    "    return a*b*product(args) if multiply else a+b+sum(args)"
   ]
  },
  {
   "cell_type": "code",
   "execution_count": null,
   "metadata": {},
   "outputs": [],
   "source": [
    "aggregate(*range(1, 5))"
   ]
  },
  {
   "cell_type": "code",
   "execution_count": null,
   "metadata": {},
   "outputs": [],
   "source": [
    "aggregate(13, 42, True)"
   ]
  },
  {
   "cell_type": "code",
   "execution_count": null,
   "metadata": {},
   "outputs": [],
   "source": [
    "aggregate(*range(1,5), multiply=True)"
   ]
  },
  {
   "cell_type": "code",
   "execution_count": null,
   "metadata": {},
   "outputs": [],
   "source": [
    "def expect(test, expected, exact=True, epsilon=2**-20):\n",
    "    return test == expected if exact else abs(test - expected) <= epsilon"
   ]
  },
  {
   "cell_type": "code",
   "execution_count": null,
   "metadata": {},
   "outputs": [],
   "source": [
    "from math import pi\n",
    "expect(22/7, pi)"
   ]
  },
  {
   "cell_type": "code",
   "execution_count": null,
   "metadata": {},
   "outputs": [],
   "source": [
    "expect(22/7, pi, False, 0.002)"
   ]
  },
  {
   "cell_type": "code",
   "execution_count": null,
   "metadata": {},
   "outputs": [],
   "source": [
    "def expect(test, expected, *, exact=True, epsilon=2**-20):\n",
    "    return test == expected if exact else abs(test - expected) <= epsilon"
   ]
  },
  {
   "cell_type": "code",
   "execution_count": null,
   "metadata": {},
   "outputs": [],
   "source": [
    "expect(22/7, pi, False, 0.002)"
   ]
  },
  {
   "cell_type": "code",
   "execution_count": null,
   "metadata": {},
   "outputs": [],
   "source": [
    "expect(22/7, pi, exact=False, epsilon=0.002)"
   ]
  },
  {
   "cell_type": "markdown",
   "metadata": {},
   "source": [
    "## Let's Put 'em (Almost) All Together"
   ]
  },
  {
   "cell_type": "code",
   "execution_count": null,
   "metadata": {},
   "outputs": [],
   "source": [
    "def almost_everything(a, b, c, /, d, e, f, *toople, **kwargs):\n",
    "    print(f\"{a=}\")\n",
    "    print(f\"{b=}\")\n",
    "    print(f\"{c=}\")\n",
    "    print(f\"{d=}\")\n",
    "    print(f\"{e=}\")\n",
    "    print(f\"{f=}\")\n",
    "    print(f\"{toople=}\")\n",
    "    print(f\"{kwargs=}\")\n",
    "    return"
   ]
  },
  {
   "cell_type": "code",
   "execution_count": null,
   "metadata": {},
   "outputs": [],
   "source": [
    "almost_everything(3, 1, 4, 1, 5, 9, \"foo\", \"bar\", \"baz\", fname=\"Christopher\", lname=\"Lorton\")"
   ]
  },
  {
   "cell_type": "code",
   "execution_count": null,
   "metadata": {},
   "outputs": [],
   "source": [
    "almost_everything(3, 1, 4, d=1, e=5, f=9)"
   ]
  },
  {
   "cell_type": "code",
   "execution_count": null,
   "metadata": {},
   "outputs": [],
   "source": [
    "almost_everything(3, 1, 4, d=1, e=5, f=9, \"foo\", \"bar\", \"baz\")"
   ]
  },
  {
   "cell_type": "code",
   "execution_count": null,
   "metadata": {},
   "outputs": [],
   "source": [
    "almost_everything(3, 1, 4, \"foo\", \"bar\", \"baz\", d=1, e=5, f=9)"
   ]
  },
  {
   "cell_type": "code",
   "execution_count": null,
   "metadata": {},
   "outputs": [],
   "source": [
    "almost_everything(3, 1, 4, 1, 5, 9, \"foo\", \"bar\", \"baz\")"
   ]
  },
  {
   "cell_type": "code",
   "execution_count": null,
   "metadata": {},
   "outputs": [],
   "source": [
    "almost_everything(3, 1, 4, 1, 5, 9, \"foo\", bar=\"bar\", \"baz\")"
   ]
  },
  {
   "cell_type": "markdown",
   "metadata": {},
   "source": [
    "## Another Try at (Almost) Everything..."
   ]
  },
  {
   "cell_type": "code",
   "execution_count": null,
   "metadata": {},
   "outputs": [],
   "source": [
    "def test(a, b, c, /, *toople, d, e, f, **kwargs):\n",
    "    print(f\"{a=}\")\n",
    "    print(f\"{b=}\")\n",
    "    print(f\"{c=}\")\n",
    "    print(f\"{d=}\")\n",
    "    print(f\"{e=}\")\n",
    "    print(f\"{f=}\")\n",
    "    print(f\"{toople=}\")\n",
    "    print(f\"{kwargs=}\")\n",
    "    return"
   ]
  },
  {
   "cell_type": "code",
   "execution_count": null,
   "metadata": {},
   "outputs": [],
   "source": [
    "test(3, 1, 4, \"foo\", \"bar\", \"baz\", d=1, e=5, f=9, lname=\"Einstein\", fname=\"Albert\")"
   ]
  },
  {
   "cell_type": "markdown",
   "metadata": {},
   "source": [
    "## ¡Don't Use Mutable Values for Defaults!"
   ]
  },
  {
   "cell_type": "code",
   "execution_count": null,
   "metadata": {},
   "outputs": [],
   "source": [
    "class Thing(object):\n",
    "    def __init__(self, values=[]):\n",
    "        self._values = values\n",
    "        return\n",
    "    \n",
    "    @property\n",
    "    def values(self):\n",
    "        return self._values"
   ]
  },
  {
   "cell_type": "code",
   "execution_count": null,
   "metadata": {},
   "outputs": [],
   "source": [
    "thing1 = Thing()\n",
    "thing1.values.extend([ 3, 1, 4, 1, 5, 9 ])\n",
    "print(f\"{thing1.values}\")"
   ]
  },
  {
   "cell_type": "code",
   "execution_count": null,
   "metadata": {},
   "outputs": [],
   "source": [
    "thing2 = Thing()\n",
    "print(f\"{thing2.values}\")"
   ]
  },
  {
   "cell_type": "code",
   "execution_count": null,
   "metadata": {},
   "outputs": [],
   "source": [
    "thing2.values.extend([0, 1, 1, 2, 3, 5])\n",
    "thing2.values"
   ]
  },
  {
   "cell_type": "code",
   "execution_count": null,
   "metadata": {},
   "outputs": [],
   "source": [
    "thing1.values"
   ]
  },
  {
   "cell_type": "code",
   "execution_count": null,
   "metadata": {},
   "outputs": [],
   "source": [
    "class BetterThing(object):\n",
    "    def __init__(self, values=None):\n",
    "        self._values = values if values else []\n",
    "        return\n",
    "    \n",
    "    @property\n",
    "    def values(self):\n",
    "        return self._values"
   ]
  },
  {
   "cell_type": "code",
   "execution_count": null,
   "metadata": {},
   "outputs": [],
   "source": [
    "bthing = BetterThing()\n",
    "bthing._values.extend([ 0, 1, 1, 2, 3, 5])\n",
    "print(f\"{bthing.values}\")"
   ]
  },
  {
   "cell_type": "code",
   "execution_count": null,
   "metadata": {},
   "outputs": [],
   "source": [
    "another_bthing = BetterThing()\n",
    "print(f\"{another_bthing.values}\")"
   ]
  },
  {
   "cell_type": "markdown",
   "metadata": {},
   "source": [
    "## args and kwargs"
   ]
  },
  {
   "cell_type": "code",
   "execution_count": null,
   "metadata": {},
   "outputs": [],
   "source": [
    "def wrapit(fn):\n",
    "    def wrapper(*args, **kwargs):\n",
    "        print(f\"{args=}\")\n",
    "        print(f\"{kwargs=}\")\n",
    "        return fn(*args, **kwargs)\n",
    "    return wrapper"
   ]
  },
  {
   "cell_type": "code",
   "execution_count": null,
   "metadata": {},
   "outputs": [],
   "source": [
    "def add_three(arg):\n",
    "    return arg + 3"
   ]
  },
  {
   "cell_type": "code",
   "execution_count": null,
   "metadata": {},
   "outputs": [],
   "source": [
    "add_three(7)"
   ]
  },
  {
   "cell_type": "code",
   "execution_count": null,
   "metadata": {},
   "outputs": [],
   "source": [
    "@wrapit\n",
    "def add_five(arg, **kwargs):\n",
    "    print(f\"Didn't use '{kwargs}'\")\n",
    "    return arg + 5"
   ]
  },
  {
   "cell_type": "code",
   "execution_count": null,
   "metadata": {},
   "outputs": [],
   "source": [
    "add_five(37)"
   ]
  },
  {
   "cell_type": "code",
   "execution_count": null,
   "metadata": {},
   "outputs": [],
   "source": [
    "add_five(37, option=False)"
   ]
  },
  {
   "cell_type": "code",
   "execution_count": null,
   "metadata": {},
   "outputs": [],
   "source": []
  }
 ],
 "metadata": {
  "kernelspec": {
   "display_name": "Python 3",
   "language": "python",
   "name": "python3"
  },
  "language_info": {
   "codemirror_mode": {
    "name": "ipython",
    "version": 3
   },
   "file_extension": ".py",
   "mimetype": "text/x-python",
   "name": "python",
   "nbconvert_exporter": "python",
   "pygments_lexer": "ipython3",
   "version": "3.8.3"
  }
 },
 "nbformat": 4,
 "nbformat_minor": 5
}
