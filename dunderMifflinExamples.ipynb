{
 "cells": [
  {
   "cell_type": "markdown",
   "id": "c6c2a7e2",
   "metadata": {},
   "source": [
    "`__file__` and `__name__` are useful dunder properties of scripts  \n",
    "the following example will _NOT_ run in Jupyter because Jupyter scripts don't have `__file__` and `__name__` :'("
   ]
  },
  {
   "cell_type": "code",
   "execution_count": 17,
   "id": "4da95058",
   "metadata": {},
   "outputs": [
    {
     "name": "stdout",
     "output_type": "stream",
     "text": [
      "Current directory is '/Users/christopher/Coding/status-tool'\n",
      "'properties.py' does NOT exist in this directory.\n"
     ]
    }
   ],
   "source": [
    "from pathlib import Path\n",
    "\n",
    "# SELF = Path(__file__).absolute()\n",
    "\n",
    "if __name__ == \"__main__\":\n",
    "    print(f\"Current directory is '{Path.cwd()}'\")\n",
    "    # print(f\"Running '{SELF}'\")\n",
    "    print(f\"'properties.py' does {'' if Path('properties.py').exists() else 'NOT '}exist in this directory.\")\n",
    "    # with SELF.open(\"r\") as file:\n",
    "        # print(file.read())\n"
   ]
  },
  {
   "cell_type": "markdown",
   "id": "9cb0765c",
   "metadata": {},
   "source": [
    "-----\n",
    "## Dunder Prefix for Class Members\n",
    "Python mangles dunder prefixed class members internally to prevent collisions with inheriting classes."
   ]
  },
  {
   "cell_type": "code",
   "execution_count": 7,
   "id": "5a1ac3de",
   "metadata": {},
   "outputs": [
    {
     "name": "stdout",
     "output_type": "stream",
     "text": [
      "'Parent' object has no attribute '__baz'\n",
      "['_Parent__baz', 'pbaz']\n",
      "Parent: 42, 13, 20210520\n",
      "'SeaBass' object has no attribute '__baz'\n",
      "['_Parent__baz', '_SeaBass__baz', 'cbaz', 'pbaz']\n",
      "Child: 24, 31, 20210520, 314159265\n"
     ]
    }
   ],
   "source": [
    "#! /usr/bin/env python3\n",
    "\n",
    "class Parent(object):\n",
    "    def __init__(self):\n",
    "        self.foo = 42\n",
    "        self._bar = 13\n",
    "        self.__baz = 20210520\n",
    "        return\n",
    "\n",
    "    @property\n",
    "    def pbaz(self):\n",
    "        return self.__baz\n",
    "\n",
    "\n",
    "class SeaBass(Parent):\n",
    "    def __init__(self):\n",
    "        super().__init__()\n",
    "        self.foo = 24\n",
    "        self._bar = 31\n",
    "        self.__baz = 314159265\n",
    "        return\n",
    "\n",
    "    @property\n",
    "    def cbaz(self):\n",
    "        return self.__baz\n",
    "\n",
    "\n",
    "if __name__ == \"__main__\":\n",
    "    p = Parent()\n",
    "    try:\n",
    "        # _bar is squiggly because the single underscore prefix indicates an internal/private member\n",
    "        print(f\"Parent: {p.foo}, {p._bar}, {p.__baz}\")\n",
    "    except AttributeError as e:\n",
    "        print(e)\n",
    "        print([name for name in dir(p) if \"baz\" in name])\n",
    "        print(f\"Parent: {p.foo}, {p._bar}, {p.pbaz}\")\n",
    "\n",
    "    c = SeaBass()\n",
    "    try:\n",
    "        # _bar is squiggly because the single underscore prefix indicates an internal/private member\n",
    "        print(f\"Child: {c.foo}, {c._bar}, {c.__baz}\")\n",
    "    except AttributeError as e:\n",
    "        print(e)\n",
    "        print([name for name in dir(c) if \"baz\" in name])\n",
    "        print(f\"Child: {c.foo}, {c._bar}, {c.pbaz}, {c.cbaz}\")\n"
   ]
  },
  {
   "cell_type": "markdown",
   "id": "5f6e94bb",
   "metadata": {},
   "source": [
    "-----\n",
    "## Single Underscore\n",
    "Use a single underscore to capture unneeded values."
   ]
  },
  {
   "cell_type": "code",
   "execution_count": 3,
   "id": "05d56eca",
   "metadata": {},
   "outputs": [
    {
     "name": "stdout",
     "output_type": "stream",
     "text": [
      "Hello, World!\n",
      "Hello, World!\n",
      "Hello, World!\n",
      "Hello, World!\n",
      "Hello, World!\n",
      "Hello, World!\n",
      "Hello, World!\n",
      "Hello, World!\n",
      "The red vehicle has 65536 miles on it. Sale price is $32768.\n"
     ]
    }
   ],
   "source": [
    "#! /usr/bin/env python3\n",
    "\n",
    "for _ in range(8):\n",
    "    print(\"Hello, World!\")\n",
    "\n",
    "vehicle = (\"red\", \"Ford\", \"F150\", 65536, 32768)\n",
    "\n",
    "color, _, _, mileage, price = vehicle\n",
    "print(f\"The {color} vehicle has {mileage} miles on it. Sale price is ${price}.\")\n"
   ]
  },
  {
   "cell_type": "markdown",
   "id": "dc5bc955",
   "metadata": {},
   "source": [
    "-----\n",
    "## Implement `__str__` for Custom String Formatting\n",
    "Used by Python in `print()` and f-strings."
   ]
  },
  {
   "cell_type": "code",
   "execution_count": 5,
   "id": "7b181322",
   "metadata": {},
   "outputs": [
    {
     "name": "stdout",
     "output_type": "stream",
     "text": [
      "Lorton, Christopher\n",
      "\tEngineering Manager (11-OCT-2010)\n",
      "\n",
      "Lorton, Christopher\n",
      "\tEngineering Manager (11-OCT-2010)\n"
     ]
    }
   ],
   "source": [
    "#! /usr/bin/env python3\n",
    "\n",
    "from datetime import datetime\n",
    "\n",
    "\n",
    "class Employee(object):\n",
    "    def __init__(self, first, last, title, start_date):\n",
    "        self._first = first\n",
    "        self._last = last\n",
    "        self._title = title\n",
    "        self._start_date = start_date\n",
    "        return\n",
    "\n",
    "    def __str__(self):\n",
    "        return f\"{self._last}, {self._first}\\n\"\\\n",
    "               f\"\\t{self._title} ({self._start_date.strftime('%d-%b-%Y').upper()})\"\n",
    "\n",
    "\n",
    "if __name__ == \"__main__\":\n",
    "    clorton = Employee(\"Christopher\", \"Lorton\", \"Engineering Manager\", datetime(2010, 10, 11))\n",
    "    print(clorton)\n",
    "    print()\n",
    "    print(f\"{clorton}\")\n"
   ]
  },
  {
   "cell_type": "markdown",
   "id": "fec42322",
   "metadata": {},
   "source": [
    "-----\n",
    "## Implement `__len__` for Custom Length Calculations\n",
    "Used by Python when calling `len()` on an object."
   ]
  },
  {
   "cell_type": "code",
   "execution_count": 6,
   "id": "dfdc7d12",
   "metadata": {},
   "outputs": [
    {
     "name": "stdout",
     "output_type": "stream",
     "text": [
      "Need to reserve 80 bytes in the file for the metadata.\n",
      "12345678901234567890123456789012345678901234567890123456789012345678901234567890\n",
      "{\"author\": \"clorton\", \"date\": \"2021-05-21T00:24:10.402183\", \"tool\": \"length.py\"}\n"
     ]
    }
   ],
   "source": [
    "#! /usr/bin/env python3\n",
    "\n",
    "from datetime import datetime\n",
    "import json\n",
    "\n",
    "\n",
    "class Metadata(object):\n",
    "    def __init__(self, author, date, tool):\n",
    "        self._author = author\n",
    "        self._date = date\n",
    "        self._tool = tool\n",
    "        return\n",
    "\n",
    "    def __str__(self):\n",
    "        return json.dumps({\"author\": self._author, \"date\": f\"{self._date.isoformat()}\", \"tool\": self._tool})\n",
    "\n",
    "    def __len__(self):\n",
    "        return len(str(self).encode(\"utf-8\"))\n",
    "\n",
    "\n",
    "if __name__ == \"__main__\":\n",
    "    meta = Metadata(\"clorton\", datetime.now(), \"length.py\")\n",
    "    # need to reserve space in the file, how much?\n",
    "    length = len(meta)\n",
    "    print(f\"Need to reserve {length} bytes in the file for the metadata.\")\n",
    "    print(\"\".join([str((i+1) % 10) for i in range(length)]))\n",
    "    print(meta)\n"
   ]
  },
  {
   "cell_type": "markdown",
   "id": "b53be6ee",
   "metadata": {},
   "source": [
    "-----\n",
    "## Implement `__call__` to Make Object Instances Callable"
   ]
  },
  {
   "cell_type": "code",
   "execution_count": 8,
   "id": "7b458161",
   "metadata": {},
   "outputs": [
    {
     "name": "stdout",
     "output_type": "stream",
     "text": [
      "[]\n",
      "[1, 2, 3, 4, 5, 6, 7, 8, 9, 10, 11, 12, 13]\n",
      "[1, 2, 3, 4, 5, 6, 7, 8]\n"
     ]
    }
   ],
   "source": [
    "#! /usr/bin/env python3\n",
    "\n",
    "class CountingNumbers(object):\n",
    "    def __init__(self, default=0):\n",
    "        self._default = default\n",
    "        return\n",
    "\n",
    "    @property\n",
    "    def default(self):\n",
    "        return self._default\n",
    "\n",
    "    @default.setter\n",
    "    def default(self, value):\n",
    "        self._default = int(value)\n",
    "        return self._default\n",
    "\n",
    "    def __call__(self, *args, **kwargs):\n",
    "        return [_ for _ in range(1, 1+(int(args[0]) if args else self._default))]\n",
    "\n",
    "\n",
    "if __name__ == \"__main__\":\n",
    "    c = CountingNumbers()\n",
    "    print(f\"{c()}\")\n",
    "    print(f\"{c(13)}\")\n",
    "    c.default = 8\n",
    "    print(f\"{c()}\")\n"
   ]
  },
  {
   "cell_type": "markdown",
   "id": "74497fcd",
   "metadata": {},
   "source": [
    "-----\n",
    "## Implement `__setitem__` and `__getitem__` to Create Collection Classes"
   ]
  },
  {
   "cell_type": "code",
   "execution_count": 10,
   "id": "e5ebc8aa",
   "metadata": {},
   "outputs": [
    {
     "name": "stdout",
     "output_type": "stream",
     "text": [
      "christopher is quiet.\n",
      "Christopher is quiet.\n",
      "CHRISTOPHER is quiet.\n"
     ]
    }
   ],
   "source": [
    "#! /usr/bin/env python3\n",
    "\n",
    "class CaseInsensitiveDictionary(dict):\n",
    "    def __init__(self, initializer=None):\n",
    "        super().__init__(initializer) if initializer is not None else super().__init__()\n",
    "        return\n",
    "\n",
    "    # ['__contains__', '__delattr__', '__delitem__', '__getattribute__', '__getitem__', '__init__', '__iter__', '__len__', '__reduce__', '__reduce_ex__', '__repr__', '__reversed__', '__setattr__', '__setitem__', '__sizeof__', '__str__']\n",
    "    def __setitem__(self, key, value):\n",
    "        return super().__setitem__(key.lower(), value)\n",
    "\n",
    "    def __getitem__(self, key):\n",
    "        return super().__getitem__(key.lower())\n",
    "\n",
    "\n",
    "if __name__ == \"__main__\":\n",
    "    cid = CaseInsensitiveDictionary()\n",
    "    cid[\"Christopher\"] = \"okay.\"\n",
    "    cid[\"CHRISTOPHER\"] = \"yelling!\"\n",
    "    cid[\"christopher\"] = \"quiet.\"\n",
    "    print(f\"christopher is {cid['christopher']}\")\n",
    "    print(f\"Christopher is {cid['Christopher']}\")\n",
    "    print(f\"CHRISTOPHER is {cid['CHRISTOPHER']}\")\n"
   ]
  },
  {
   "cell_type": "markdown",
   "id": "8e6e0fe2",
   "metadata": {},
   "source": [
    "-----\n",
    "## Implement `__next__` and `__iter__` to Implement Iterable Classes"
   ]
  },
  {
   "cell_type": "code",
   "execution_count": 13,
   "id": "a45ba87a",
   "metadata": {},
   "outputs": [
    {
     "name": "stdout",
     "output_type": "stream",
     "text": [
      "0: 0\n",
      "1: 1\n",
      "2: 1\n",
      "3: 2\n",
      "4: 3\n",
      "5: 5\n",
      "6: 8\n",
      "7: 13\n",
      "8: 21\n",
      "9: 34\n",
      "10: 55\n",
      "11: 89\n",
      "12: 144\n",
      "13: 233\n",
      "14: 377\n",
      "15: 610\n",
      "16: 987\n"
     ]
    }
   ],
   "source": [
    "#! /usr/bin/env python3\n",
    "\n",
    "\"\"\"Courtesy of ccollins@idmod.org\"\"\"\n",
    "\n",
    "\n",
    "class Fib:\n",
    "    def __init__(self):\n",
    "        self.a, self.b = 0, 1\n",
    "\n",
    "    def __next__(self):\n",
    "        return_value = self.a\n",
    "        self.a, self.b = self.b, self.a+self.b\n",
    "        return return_value\n",
    "\n",
    "    def __iter__(self):\n",
    "        return self\n",
    "\n",
    "\n",
    "if __name__ == \"__main__\":\n",
    "    fibber = Fib()\n",
    "    for index, value in enumerate(fibber):\n",
    "        print(f\"{index}: {value}\")\n",
    "        if index == 16:\n",
    "            break\n"
   ]
  },
  {
   "cell_type": "markdown",
   "id": "8fb0c747",
   "metadata": {},
   "source": [
    "-----\n",
    "## Implement `__getstate__` and `__setstate__` for Custome Picklable Classes"
   ]
  },
  {
   "cell_type": "code",
   "execution_count": 14,
   "id": "a25989b9",
   "metadata": {},
   "outputs": [
    {
     "name": "stdout",
     "output_type": "stream",
     "text": [
      "example is {'foo': 42, 'bar': 'All your base are belong to us!'}\n",
      "In custom Example::__getstate__()...\n",
      "In custom Example::__setstate__()...\n",
      "test is a <class '__main__.Example'> - {'foo': 21, 'bar': '!su ot gnoleb era esab ruoy llA'}\n"
     ]
    }
   ],
   "source": [
    "\n",
    "\n",
    "#! /usr/bin/env python3\n",
    "\n",
    "from io import BytesIO\n",
    "import json\n",
    "import pickle\n",
    "\n",
    "\n",
    "class Example(object):\n",
    "    def __init__(self):\n",
    "        self.foo = 42\n",
    "        self.bar = \"All your base are belong to us!\"\n",
    "        return\n",
    "\n",
    "    def __getstate__(self):\n",
    "        print(\"In custom Example::__getstate__()...\")\n",
    "        state = {\"oof\": self.foo // 2, \"rab\": self.bar[::-1]}\n",
    "        return state\n",
    "\n",
    "    def __setstate__(self, state):\n",
    "        print(\"In custom Example::__setstate__()...\")\n",
    "        self.foo, self.bar = state[\"oof\"], state[\"rab\"]\n",
    "        return\n",
    "\n",
    "    def __str__(self):\n",
    "        return f\"{self.__dict__}\"\n",
    "\n",
    "\n",
    "if __name__ == \"__main__\":\n",
    "    JOKE = \"Two birds, Pete and Repete were sitting on a fence. Pete fell off. Which one was left?\"\n",
    "    example = Example()\n",
    "    print(f\"example is {example}\")\n",
    "\n",
    "    pickled = BytesIO()\n",
    "    pickle.dump(example, pickled)\n",
    "\n",
    "    pickled.seek(0)\n",
    "    test = pickle.load(pickled)\n",
    "    print(f\"test is a {type(test)} - {test}\")\n"
   ]
  },
  {
   "cell_type": "markdown",
   "id": "190e434a",
   "metadata": {},
   "source": [
    "-----\n",
    "## `__dict__` Gives Access to Internal Object Members"
   ]
  },
  {
   "cell_type": "code",
   "execution_count": 11,
   "id": "a2d0ef30",
   "metadata": {},
   "outputs": [
    {
     "name": "stdout",
     "output_type": "stream",
     "text": [
      "['__class__', '__delattr__', '__dict__', '__dir__', '__doc__', '__eq__', '__format__', '__ge__', '__getattribute__', '__gt__', '__hash__', '__init__', '__init_subclass__', '__le__', '__lt__', '__module__', '__ne__', '__new__', '__reduce__', '__reduce_ex__', '__repr__', '__setattr__', '__sizeof__', '__str__', '__subclasshook__', '__weakref__']\n",
      "Caught AttributeError setting duo.foo\n",
      "Caught AttributeError reading duo.foo\n",
      "Caught AttributeError reading duo.catCase\n",
      "Setting duo.catCase...\n",
      "duo.catCase='sokoke'\n",
      "['__class__', '__delattr__', '__dict__', '__dir__', '__doc__', '__eq__', '__format__', '__ge__', '__getattribute__', '__gt__', '__hash__', '__init__', '__init_subclass__', '__le__', '__lt__', '__module__', '__ne__', '__new__', '__reduce__', '__reduce_ex__', '__repr__', '__setattr__', '__sizeof__', '__str__', '__subclasshook__', '__weakref__', 'catCase']\n"
     ]
    }
   ],
   "source": [
    "#! /usr/bin/env python3\n",
    "\n",
    "class Dynamic(object):\n",
    "    def __init__(self):\n",
    "        return\n",
    "\n",
    "    def __setattr__(self, key, value):\n",
    "        if str.islower(key[0]) and str.islower(key[-1]) and any(map(str.isupper, key)):\n",
    "            self.__dict__[key] = value\n",
    "        else:\n",
    "            raise AttributeError\n",
    "        return\n",
    "\n",
    "\n",
    "if __name__ == \"__main__\":\n",
    "    duo = Dynamic()\n",
    "    print(dir(duo))\n",
    "    try:\n",
    "        duo.foo = \"I don't think so.\"\n",
    "    except AttributeError:\n",
    "        print(\"Caught AttributeError setting duo.foo\")\n",
    "    try:\n",
    "        print(f\"{duo.foo}\")\n",
    "    except AttributeError:\n",
    "        print(\"Caught AttributeError reading duo.foo\")\n",
    "    try:\n",
    "        print(f\"{duo.catCase=}\")\n",
    "    except AttributeError:\n",
    "        print(\"Caught AttributeError reading duo.catCase\")\n",
    "    print(\"Setting duo.catCase...\")\n",
    "    duo.catCase = \"sokoke\"\n",
    "    print(f\"{duo.catCase=}\")\n",
    "    print(dir(duo))\n"
   ]
  },
  {
   "cell_type": "code",
   "execution_count": null,
   "id": "e6b2c0a8",
   "metadata": {},
   "outputs": [],
   "source": []
  }
 ],
 "metadata": {
  "kernelspec": {
   "display_name": "Python 3",
   "language": "python",
   "name": "python3"
  },
  "language_info": {
   "codemirror_mode": {
    "name": "ipython",
    "version": 3
   },
   "file_extension": ".py",
   "mimetype": "text/x-python",
   "name": "python",
   "nbconvert_exporter": "python",
   "pygments_lexer": "ipython3",
   "version": "3.9.2"
  }
 },
 "nbformat": 4,
 "nbformat_minor": 5
}
